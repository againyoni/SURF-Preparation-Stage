{
  "nbformat": 4,
  "nbformat_minor": 0,
  "metadata": {
    "colab": {
      "name": "Image Classification",
      "provenance": [],
      "collapsed_sections": []
    },
    "kernelspec": {
      "name": "python3",
      "display_name": "Python 3"
    },
    "language_info": {
      "name": "python"
    }
  },
  "cells": [
    {
      "cell_type": "markdown",
      "source": [
        "# Image Classification using CNN\n",
        "In this report, it will evaluate the image classification, typically CIFAR-10 having 10 classes.\n",
        "\n",
        "The development is proceeded with \"tensorflow, keras, matplotlib, numpy, sklearn and metric\" technologies. The images will be classified in two different method: Artificial Neural Network and Convolutional Neural Network. Then, the results will be compared and see better networking for classification. Lastly, the prediction will be made."
      ],
      "metadata": {
        "id": "koK35okX_Iv0"
      }
    },
    {
      "cell_type": "code",
      "execution_count": null,
      "metadata": {
        "id": "8KjSQsXAvJ8L"
      },
      "outputs": [],
      "source": [
        "import tensorflow as tf\n",
        "from keras import datasets, layers, models\n",
        "import matplotlib.pyplot as plt\n",
        "import numpy as np"
      ]
    },
    {
      "cell_type": "code",
      "source": [
        "(X_train, y_train), (X_test,y_test) = datasets.cifar10.load_data()\n",
        "X_train.shape"
      ],
      "metadata": {
        "colab": {
          "base_uri": "https://localhost:8080/"
        },
        "id": "WTV1FEoJo-xB",
        "outputId": "cb249072-f1b5-46f9-f1f4-c014f5100564"
      },
      "execution_count": null,
      "outputs": [
        {
          "output_type": "execute_result",
          "data": {
            "text/plain": [
              "(50000, 32, 32, 3)"
            ]
          },
          "metadata": {},
          "execution_count": 78
        }
      ]
    },
    {
      "cell_type": "code",
      "source": [
        "X_test.shape"
      ],
      "metadata": {
        "colab": {
          "base_uri": "https://localhost:8080/"
        },
        "id": "MZGy5pwuqGug",
        "outputId": "377bb14f-f40b-48db-8c4f-e2ec4b544ed5"
      },
      "execution_count": null,
      "outputs": [
        {
          "output_type": "execute_result",
          "data": {
            "text/plain": [
              "(10000, 32, 32, 3)"
            ]
          },
          "metadata": {},
          "execution_count": 79
        }
      ]
    },
    {
      "cell_type": "code",
      "source": [
        "y_train.shape"
      ],
      "metadata": {
        "colab": {
          "base_uri": "https://localhost:8080/"
        },
        "id": "bbiqy9Vq9fGe",
        "outputId": "e92d0d36-a7a8-4603-f2a4-73ab6cf9b7f4"
      },
      "execution_count": null,
      "outputs": [
        {
          "output_type": "execute_result",
          "data": {
            "text/plain": [
              "(50000, 1)"
            ]
          },
          "metadata": {},
          "execution_count": 80
        }
      ]
    },
    {
      "cell_type": "code",
      "source": [
        "X_train[0] # 32X32"
      ],
      "metadata": {
        "colab": {
          "base_uri": "https://localhost:8080/"
        },
        "id": "gNjyYPY7pZ7J",
        "outputId": "6d461080-1b87-48df-b72c-33f74ad4ab5a"
      },
      "execution_count": null,
      "outputs": [
        {
          "output_type": "execute_result",
          "data": {
            "text/plain": [
              "array([[[ 59,  62,  63],\n",
              "        [ 43,  46,  45],\n",
              "        [ 50,  48,  43],\n",
              "        ...,\n",
              "        [158, 132, 108],\n",
              "        [152, 125, 102],\n",
              "        [148, 124, 103]],\n",
              "\n",
              "       [[ 16,  20,  20],\n",
              "        [  0,   0,   0],\n",
              "        [ 18,   8,   0],\n",
              "        ...,\n",
              "        [123,  88,  55],\n",
              "        [119,  83,  50],\n",
              "        [122,  87,  57]],\n",
              "\n",
              "       [[ 25,  24,  21],\n",
              "        [ 16,   7,   0],\n",
              "        [ 49,  27,   8],\n",
              "        ...,\n",
              "        [118,  84,  50],\n",
              "        [120,  84,  50],\n",
              "        [109,  73,  42]],\n",
              "\n",
              "       ...,\n",
              "\n",
              "       [[208, 170,  96],\n",
              "        [201, 153,  34],\n",
              "        [198, 161,  26],\n",
              "        ...,\n",
              "        [160, 133,  70],\n",
              "        [ 56,  31,   7],\n",
              "        [ 53,  34,  20]],\n",
              "\n",
              "       [[180, 139,  96],\n",
              "        [173, 123,  42],\n",
              "        [186, 144,  30],\n",
              "        ...,\n",
              "        [184, 148,  94],\n",
              "        [ 97,  62,  34],\n",
              "        [ 83,  53,  34]],\n",
              "\n",
              "       [[177, 144, 116],\n",
              "        [168, 129,  94],\n",
              "        [179, 142,  87],\n",
              "        ...,\n",
              "        [216, 184, 140],\n",
              "        [151, 118,  84],\n",
              "        [123,  92,  72]]], dtype=uint8)"
            ]
          },
          "metadata": {},
          "execution_count": 81
        }
      ]
    },
    {
      "cell_type": "code",
      "source": [
        "y_train = y_train.reshape(-1,) # second dimension == flatten == blank\n",
        "y_train[:5] # now one dimensional array printed"
      ],
      "metadata": {
        "colab": {
          "base_uri": "https://localhost:8080/"
        },
        "id": "xY4Ab6AlsoZG",
        "outputId": "dc5db474-7aba-436e-bca3-2babc9eb8476"
      },
      "execution_count": null,
      "outputs": [
        {
          "output_type": "execute_result",
          "data": {
            "text/plain": [
              "array([6, 9, 9, 4, 1], dtype=uint8)"
            ]
          },
          "metadata": {},
          "execution_count": 82
        }
      ]
    },
    {
      "cell_type": "markdown",
      "source": [
        "For the shape of training, two dimensional array is not needed. Opposingly, categorizing is needed. Therefore, y_train can be reshaped."
      ],
      "metadata": {
        "id": "Iuc9Tz2RBtL5"
      }
    },
    {
      "cell_type": "code",
      "source": [
        "y_test = y_test.reshape(-1,)"
      ],
      "metadata": {
        "id": "ek07N_kA9xu-"
      },
      "execution_count": null,
      "outputs": []
    },
    {
      "cell_type": "markdown",
      "source": [
        "With reshaped train and test to be in one-dimensional array, the classes are then can be evaluated."
      ],
      "metadata": {
        "id": "AS-5cW-zBx5y"
      }
    },
    {
      "cell_type": "code",
      "source": [
        "classes = [\"airplane\", \"automobile\", \"bird\", \"cat\", \"deer\", \"dog\", \"frog\", \"horse\", \"ship\", \"truck\"]"
      ],
      "metadata": {
        "id": "BOWwEMMlruB_"
      },
      "execution_count": null,
      "outputs": []
    },
    {
      "cell_type": "markdown",
      "source": [
        "It defines the 10 classes, where the pictures need to be classified.\n",
        "\n",
        "Then the classes can be printed by classes[index].\n",
        "Therefore the x_label classes can be re written as plt.xlabel(classes[y[index]])."
      ],
      "metadata": {
        "id": "wQGX76eeCAua"
      }
    },
    {
      "cell_type": "code",
      "source": [
        "def plot_sample(X, y, index): # to print out the picture that I want only\n",
        "    plt.figure(figsize = (15, 2))\n",
        "    plt.imshow(X[index])\n",
        "    plt.xlabel(classes[y[index]]) # print out the x label --> i.g. whether it is frog / train = classes\n",
        "    # but how to use the classes? --> need to define y"
      ],
      "metadata": {
        "id": "E4r2lEAEqoXZ"
      },
      "execution_count": null,
      "outputs": []
    },
    {
      "cell_type": "markdown",
      "source": [
        "plt.imshow(X_train[n]):\n",
        "It will print out the picture that needs classification.\n",
        "This is printed in 32X32 pixels.\n",
        "\n",
        "It also prints out the size of the image."
      ],
      "metadata": {
        "id": "Lpn3TP7gq--i"
      }
    },
    {
      "cell_type": "code",
      "source": [
        "plot_sample(X_train, y_train, 0)"
      ],
      "metadata": {
        "colab": {
          "base_uri": "https://localhost:8080/",
          "height": 173
        },
        "id": "Hj-OaXtqrAIa",
        "outputId": "4ffc7a4e-720f-43ab-af57-7a00512d64ec"
      },
      "execution_count": null,
      "outputs": [
        {
          "output_type": "display_data",
          "data": {
            "text/plain": [
              "<Figure size 1080x144 with 1 Axes>"
            ],
            "image/png": "[encoded data removed]"
          },
          "metadata": {
            "needs_background": "light"
          }
        }
      ]
    },
    {
      "cell_type": "code",
      "source": [
        "plot_sample(X_train, y_train, 3)"
      ],
      "metadata": {
        "colab": {
          "base_uri": "https://localhost:8080/",
          "height": 173
        },
        "id": "N-pkXomNtUTG",
        "outputId": "a69202c5-e676-438a-a5d6-8b5827176d7b"
      },
      "execution_count": null,
      "outputs": [
        {
          "output_type": "display_data",
          "data": {
            "text/plain": [
              "<Figure size 1080x144 with 1 Axes>"
            ],
            "image/png": "[encoded data removed]"
          },
          "metadata": {
            "needs_background": "light"
          }
        }
      ]
    },
    {
      "cell_type": "markdown",
      "source": [
        "# Artificial Neural Network"
      ],
      "metadata": {
        "id": "F61iVGt6EnQf"
      }
    },
    {
      "cell_type": "code",
      "source": [
        "# apply to all the image inputs\n",
        "X_train = X_train / 255\n",
        "X_test = X_test / 255"
      ],
      "metadata": {
        "id": "5RknE7HmvOwb"
      },
      "execution_count": null,
      "outputs": []
    },
    {
      "cell_type": "markdown",
      "source": [
        "Now the data is needed to be normalized. This is required to ensure how the data is look like, the data reads and utilization by the recorded database.\n",
        "\n",
        "To normalize in ANN, images are divided by each pixel value, 255. This represents the RGB maximum value."
      ],
      "metadata": {
        "id": "9qs_Tk-XDEix"
      }
    },
    {
      "cell_type": "code",
      "source": [
        "ann = models.Sequential([\n",
        "        layers.Flatten(input_shape = (32, 32, 3)), # first layer which accepts 32X32X3\n",
        "        layers.Dense(3000, activation = 'relu'), # having 3000 neurons\n",
        "        layers.Dense(1000, activation = 'relu'), # 1000 neurons\n",
        "        layers.Dense(10, activation = 'sigmoid') # then 10 categories\n",
        "])\n",
        "\n",
        "# dense artificial neural network with the following parameters\n",
        "ann.compile(optimizer = 'SGD',\n",
        "                loss = 'sparse_categorical_crossentropy',\n",
        "                metrics = ['accuracy'])\n",
        "\n",
        "ann.fit(X_train, y_train, epochs = 5) # accuracy == low for training\n",
        "# artifical neural network performs bad with 5 epochs"
      ],
      "metadata": {
        "colab": {
          "base_uri": "https://localhost:8080/"
        },
        "id": "WCz-sde8vhIB",
        "outputId": "8fd494e2-dd48-4714-d107-414a2c5fc3e9"
      },
      "execution_count": null,
      "outputs": [
        {
          "output_type": "stream",
          "name": "stdout",
          "text": [
            "Epoch 1/5\n",
            "1563/1563 [==============================] - 113s 72ms/step - loss: 1.8121 - accuracy: 0.3535\n",
            "Epoch 2/5\n",
            "1563/1563 [==============================] - 109s 70ms/step - loss: 1.6224 - accuracy: 0.4270\n",
            "Epoch 3/5\n",
            "1563/1563 [==============================] - 110s 70ms/step - loss: 1.5410 - accuracy: 0.4555\n",
            "Epoch 4/5\n",
            "1563/1563 [==============================] - 109s 70ms/step - loss: 1.4801 - accuracy: 0.4777\n",
            "Epoch 5/5\n",
            "1563/1563 [==============================] - 108s 69ms/step - loss: 1.4323 - accuracy: 0.4956\n"
          ]
        },
        {
          "output_type": "execute_result",
          "data": {
            "text/plain": [
              "<keras.callbacks.History at 0x7facc0de3dd0>"
            ]
          },
          "metadata": {},
          "execution_count": 90
        }
      ]
    },
    {
      "cell_type": "markdown",
      "source": [
        "Notice on the performance of the Artificial Neural Network.\n",
        "\n",
        "The parameter of loos in compilation function can be inputted with two distinct entropies, \"categorical crossentropy\" and \"sparse categorical crossentropy\".\n",
        "The difference between them is that categorical crossentropy uses matrix to retrieve the image, where sparsed one uses a value.\n",
        "\n",
        "Therefore, since the above codes used values to get the class and image, it uses \"spare categorical crossentropy\" for loss parameter."
      ],
      "metadata": {
        "id": "kI-kT9t0wQZa"
      }
    },
    {
      "cell_type": "code",
      "source": [
        "ann.evaluate(X_test, y_test)"
      ],
      "metadata": {
        "colab": {
          "base_uri": "https://localhost:8080/"
        },
        "id": "mPiBhbIUzhBo",
        "outputId": "a79bfca8-a63b-4365-846c-6ad444886f04"
      },
      "execution_count": null,
      "outputs": [
        {
          "output_type": "stream",
          "name": "stdout",
          "text": [
            "313/313 [==============================] - 8s 26ms/step - loss: 1.5281 - accuracy: 0.4565\n"
          ]
        },
        {
          "output_type": "execute_result",
          "data": {
            "text/plain": [
              "[1.5281258821487427, 0.45649999380111694]"
            ]
          },
          "metadata": {},
          "execution_count": 91
        }
      ]
    },
    {
      "cell_type": "markdown",
      "source": [
        "The test case matrices and 1-dimension of size 10 is evaluated for total accuracy."
      ],
      "metadata": {
        "id": "OYm4L7QcDmiX"
      }
    },
    {
      "cell_type": "code",
      "source": [
        "from sklearn.metrics import confusion_matrix, classification_report\n",
        "import numpy as np\n",
        "y_pred = ann.predict(X_test)\n",
        "y_pred_classes = [np.argmax(element) for element in y_pred]\n",
        "\n",
        "print(\"Classification Report: \\n\", classification_report(y_test, y_pred_classes, zero_division='warn'))"
      ],
      "metadata": {
        "colab": {
          "base_uri": "https://localhost:8080/"
        },
        "id": "YB9e7ROVyt7w",
        "outputId": "d8375fc4-79b1-4a98-c2c2-254e1f11950a"
      },
      "execution_count": null,
      "outputs": [
        {
          "output_type": "stream",
          "name": "stdout",
          "text": [
            "Classification Report: \n",
            "               precision    recall  f1-score   support\n",
            "\n",
            "           0       0.61      0.49      0.54      1000\n",
            "           1       0.51      0.64      0.57      1000\n",
            "           2       0.43      0.30      0.36      1000\n",
            "           3       0.36      0.31      0.33      1000\n",
            "           4       0.42      0.38      0.40      1000\n",
            "           5       0.45      0.31      0.36      1000\n",
            "           6       0.65      0.32      0.43      1000\n",
            "           7       0.35      0.74      0.48      1000\n",
            "           8       0.77      0.37      0.50      1000\n",
            "           9       0.42      0.71      0.52      1000\n",
            "\n",
            "    accuracy                           0.46     10000\n",
            "   macro avg       0.50      0.46      0.45     10000\n",
            "weighted avg       0.50      0.46      0.45     10000\n",
            "\n"
          ]
        }
      ]
    },
    {
      "cell_type": "markdown",
      "source": [
        "The above result is a classificantion report which can look at the accuracy percentage for each classes."
      ],
      "metadata": {
        "id": "WmVeCoWeyuif"
      }
    },
    {
      "cell_type": "markdown",
      "source": [
        "# Convolutional Neural Network"
      ],
      "metadata": {
        "id": "31UadhiGEaIP"
      }
    },
    {
      "cell_type": "code",
      "source": [
        "cnn = models.Sequential([\n",
        "        # cnn\n",
        "        layers.Conv2D(filters = 32, kernel_size = (3, 3), activation = 'relu', input_shape = [32, 32, 3]), # 3X3 kernel, 32 filters\n",
        "        layers.MaxPooling2D((2, 2)), # less expensive to calculate\n",
        "\n",
        "        layers.Conv2D(filters = 64, kernel_size = (3, 3), activation = 'relu'), \n",
        "        layers.MaxPooling2D((2, 2)),\n",
        "\n",
        "        # dense network\n",
        "        layers.Flatten(), # first layer which accepts 32X32X3\n",
        "        layers.Dense(64, activation = 'relu'), # keep only one layer\n",
        "        layers.Dense(10, activation = 'softmax') # normalize probability\n",
        "]) # up-pooling"
      ],
      "metadata": {
        "id": "yDpUbam62krM"
      },
      "execution_count": null,
      "outputs": []
    },
    {
      "cell_type": "markdown",
      "source": [
        "Convolution layers:\n",
        "\n",
        "1. first one detects the loopy pattern\n",
        "2. detecting the vertical line\n",
        "3. detecting the diagonal line\n",
        "\n",
        "Best thing about the cnn:\n",
        "don't need to tell what the filters are.\n",
        "It will figure out filter by itself, which filter size and how many filters are needed can be calculated by the convolution function itself."
      ],
      "metadata": {
        "id": "QiCcQerP5MAL"
      }
    },
    {
      "cell_type": "code",
      "source": [
        "cnn.compile(optimizer = 'adam',\n",
        "              loss = 'sparse_categorical_crossentropy',\n",
        "              metrics = ['accuracy'])"
      ],
      "metadata": {
        "id": "BVy0jtrm4obD"
      },
      "execution_count": null,
      "outputs": []
    },
    {
      "cell_type": "code",
      "source": [
        "cnn.fit(X_train, y_train, epochs = 10)"
      ],
      "metadata": {
        "colab": {
          "base_uri": "https://localhost:8080/"
        },
        "id": "UDu9rvd56pUi",
        "outputId": "f494ea5b-3305-447c-88f7-1a0ab45aff25"
      },
      "execution_count": null,
      "outputs": [
        {
          "output_type": "stream",
          "name": "stdout",
          "text": [
            "Epoch 1/10\n",
            "1563/1563 [==============================] - 66s 42ms/step - loss: 1.4401 - accuracy: 0.4840\n",
            "Epoch 2/10\n",
            "1563/1563 [==============================] - 65s 42ms/step - loss: 1.0991 - accuracy: 0.6143\n",
            "Epoch 3/10\n",
            "1563/1563 [==============================] - 65s 42ms/step - loss: 0.9782 - accuracy: 0.6589\n",
            "Epoch 4/10\n",
            "1563/1563 [==============================] - 65s 42ms/step - loss: 0.8945 - accuracy: 0.6893\n",
            "Epoch 5/10\n",
            "1563/1563 [==============================] - 71s 45ms/step - loss: 0.8227 - accuracy: 0.7156\n",
            "Epoch 6/10\n",
            "1563/1563 [==============================] - 69s 44ms/step - loss: 0.7675 - accuracy: 0.7338\n",
            "Epoch 7/10\n",
            "1563/1563 [==============================] - 66s 43ms/step - loss: 0.7177 - accuracy: 0.7502\n",
            "Epoch 8/10\n",
            "1563/1563 [==============================] - 65s 42ms/step - loss: 0.6724 - accuracy: 0.7665\n",
            "Epoch 9/10\n",
            "1563/1563 [==============================] - 65s 42ms/step - loss: 0.6289 - accuracy: 0.7807\n",
            "Epoch 10/10\n",
            "1563/1563 [==============================] - 75s 48ms/step - loss: 0.5915 - accuracy: 0.7937\n"
          ]
        },
        {
          "output_type": "execute_result",
          "data": {
            "text/plain": [
              "<keras.callbacks.History at 0x7facc0c8e510>"
            ]
          },
          "metadata": {},
          "execution_count": 95
        }
      ]
    },
    {
      "cell_type": "markdown",
      "source": [
        "By the comparison from the above evaluated accuracies for ANN and CNN accuracies just computed, it is noticeable that CNN has higher accuracy for image classification.\n",
        "\n",
        "In convolution layer, the normalization works little different from ANN. As it is mentioned in the above, ANN convolution layer is a simple division with RGB value. However, in CNN, the normalization is the addition of the neighboring epoch's accuracy and dividing from the targetting accuracy value from the added value. This will give the CNN normalization."
      ],
      "metadata": {
        "id": "D336d0zpFHef"
      }
    },
    {
      "cell_type": "code",
      "source": [
        "cnn.evaluate(X_test, y_test)"
      ],
      "metadata": {
        "colab": {
          "base_uri": "https://localhost:8080/"
        },
        "id": "XIWFIU-v6_rv",
        "outputId": "816b9ba1-f8f3-461e-b1f0-e5ecab8942a1"
      },
      "execution_count": null,
      "outputs": [
        {
          "output_type": "stream",
          "name": "stdout",
          "text": [
            "313/313 [==============================] - 5s 15ms/step - loss: 0.9521 - accuracy: 0.6950\n"
          ]
        },
        {
          "output_type": "execute_result",
          "data": {
            "text/plain": [
              "[0.9520777463912964, 0.6949999928474426]"
            ]
          },
          "metadata": {},
          "execution_count": 96
        }
      ]
    },
    {
      "cell_type": "code",
      "source": [
        "y_test = y_test.reshape(-1,)\n",
        "plot_sample(X_test, y_test, 4)"
      ],
      "metadata": {
        "colab": {
          "base_uri": "https://localhost:8080/",
          "height": 173
        },
        "id": "NRjU4Bje7Pcn",
        "outputId": "c0da8616-225b-43b0-b152-64b0540f070f"
      },
      "execution_count": null,
      "outputs": [
        {
          "output_type": "display_data",
          "data": {
            "text/plain": [
              "<Figure size 1080x144 with 1 Axes>"
            ],
            "image/png": "[encoded data removed]"
          },
          "metadata": {
            "needs_background": "light"
          }
        }
      ]
    },
    {
      "cell_type": "code",
      "source": [
        "y_pred = cnn.predict(X_test)\n",
        "y_pred[:5]"
      ],
      "metadata": {
        "colab": {
          "base_uri": "https://localhost:8080/"
        },
        "id": "_sdxhdHC7bYG",
        "outputId": "3b227b32-96a3-4101-c9a1-6914dc408b0f"
      },
      "execution_count": null,
      "outputs": [
        {
          "output_type": "execute_result",
          "data": {
            "text/plain": [
              "array([[1.71659573e-04, 1.17809495e-05, 3.00192996e-03, 6.72024786e-01,\n",
              "        2.54418384e-02, 2.95990825e-01, 5.44330978e-04, 2.68791802e-03,\n",
              "        1.08395332e-04, 1.65717429e-05],\n",
              "       [6.01297652e-04, 1.85682718e-02, 3.51531611e-07, 3.56713116e-07,\n",
              "        2.82566610e-08, 1.36845735e-09, 7.42670903e-09, 2.01399586e-09,\n",
              "        9.80675519e-01, 1.54189664e-04],\n",
              "       [4.28089976e-01, 8.39115605e-02, 3.06398049e-03, 2.16651428e-02,\n",
              "        1.14944009e-02, 5.40626142e-03, 3.30867100e-04, 3.82964946e-02,\n",
              "        2.08750203e-01, 1.98991060e-01],\n",
              "       [9.78811562e-01, 1.35245873e-03, 4.98251151e-03, 7.24095386e-04,\n",
              "        7.23237579e-04, 4.20362312e-06, 6.55311742e-04, 4.67214959e-05,\n",
              "        1.20266089e-02, 6.73297502e-04],\n",
              "       [8.07573088e-07, 2.29513020e-07, 7.24520013e-02, 9.87901236e-04,\n",
              "        4.35364008e-01, 1.27325518e-04, 4.91059721e-01, 5.95260417e-07,\n",
              "        7.35343338e-06, 5.76819303e-08]], dtype=float32)"
            ]
          },
          "metadata": {},
          "execution_count": 98
        }
      ]
    },
    {
      "cell_type": "markdown",
      "source": [
        "The values in the array is probability distribution between 0 and 1.\n",
        "To get the prediction value, find which element is max. This can be done by the use of argmax method."
      ],
      "metadata": {
        "id": "kbtJdMCE7ka4"
      }
    },
    {
      "cell_type": "code",
      "source": [
        "y_classes = [np.argmax(element) for element in y_pred] # the number displayed is the maximum element\n",
        "y_classes[:5] # prediction"
      ],
      "metadata": {
        "colab": {
          "base_uri": "https://localhost:8080/"
        },
        "id": "xJ7Sv7nW7qb_",
        "outputId": "d9a1842f-0acc-4248-a008-45d3b20bef11"
      },
      "execution_count": null,
      "outputs": [
        {
          "output_type": "execute_result",
          "data": {
            "text/plain": [
              "[3, 8, 0, 0, 6]"
            ]
          },
          "metadata": {},
          "execution_count": 99
        }
      ]
    },
    {
      "cell_type": "code",
      "source": [
        "y_test[:5] # expectation"
      ],
      "metadata": {
        "colab": {
          "base_uri": "https://localhost:8080/"
        },
        "id": "miDGt7Ec8Mtm",
        "outputId": "d5924182-65a8-47f9-8c7f-0cbc3057477c"
      },
      "execution_count": null,
      "outputs": [
        {
          "output_type": "execute_result",
          "data": {
            "text/plain": [
              "array([3, 8, 8, 0, 6], dtype=uint8)"
            ]
          },
          "metadata": {},
          "execution_count": 100
        }
      ]
    },
    {
      "cell_type": "markdown",
      "source": [
        "Although the predictions make some errors, results are almost the same and some are even difficult to recognize by human. Thus, the outcome is still reasonable with such errors."
      ],
      "metadata": {
        "id": "zGEwoGNc8a_f"
      }
    },
    {
      "cell_type": "code",
      "source": [
        "classes[y_classes[4]] # this is the actual value with input of 4 = 'frog' \n",
        "# the output = predicted value, it matches the expectation"
      ],
      "metadata": {
        "colab": {
          "base_uri": "https://localhost:8080/",
          "height": 36
        },
        "id": "H4xRGPpl8oJO",
        "outputId": "99993934-8334-4c42-f5b4-110f5abfedfd"
      },
      "execution_count": null,
      "outputs": [
        {
          "output_type": "execute_result",
          "data": {
            "text/plain": [
              "'frog'"
            ],
            "application/vnd.google.colaboratory.intrinsic+json": {
              "type": "string"
            }
          },
          "metadata": {},
          "execution_count": 114
        }
      ]
    }
  ]
}