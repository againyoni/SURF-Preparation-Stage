{
  "nbformat": 4,
  "nbformat_minor": 0,
  "metadata": {
    "colab": {
      "name": "SURF_Task1.2_Report_on_Learning_Python",
      "provenance": [],
      "collapsed_sections": []
    },
    "kernelspec": {
      "name": "python3",
      "display_name": "Python 3"
    },
    "language_info": {
      "name": "python"
    }
  },
  "cells": [
    {
      "cell_type": "markdown",
      "source": [
        "\n",
        "# Report on Learning Python\n",
        "NumPy and Matplotlib using Google Colab\n",
        "\n",
        "\n",
        "\n"
      ],
      "metadata": {
        "id": "CBo4HuHDxfZ4"
      }
    },
    {
      "cell_type": "markdown",
      "source": [
        "# 1. NumPy"
      ],
      "metadata": {
        "id": "BlW-X1zXxVZp"
      }
    },
    {
      "cell_type": "markdown",
      "source": [
        "Python's Numpy package is the foundation for scientific computing. It includes a high-performance multidimensional array object as well as utilities for manipulating them. The package provide similar functions to MATLAB.\n",
        "\n",
        "Before using NumPy module, it is necessary to import. There are several ways to import NumPy. The standard approach of simple import is using the statement: import numpy. Contrasting to the standard importing method, it is also available to import as the followings: import numpy as np, and from numpy import *. Importing numpy as np is providing the name np for numpy. From numpy import * is equivalent to the standard approach since it is importing all functions in numpy.\n"
      ],
      "metadata": {
        "id": "4ubi5tDqtKwt"
      }
    },
    {
      "cell_type": "code",
      "source": [
        "import numpy\n",
        "import numpy as np      # --> most commonly used\n",
        "from numpy import *"
      ],
      "metadata": {
        "id": "ODiEgBa2tWjc"
      },
      "execution_count": null,
      "outputs": []
    },
    {
      "cell_type": "markdown",
      "source": [
        "A NumPy array is a grid of identical-type items indexed by a tuple of nonnegative integers. The array's rank is the number of dimensions; the shape is a tuple of numbers indicating the array's size along each dimension.\n",
        "\n",
        "Arrays in numpy are similar to lists in Python, and they can be created from a list. They can form multi-dimension. These are the basic elements of array that can implement the kernels in the ConvNet, convolution."
      ],
      "metadata": {
        "id": "X6_xTVRWtndN"
      }
    },
    {
      "cell_type": "code",
      "source": [
        "import numpy as np\n",
        "\n",
        "array = np.array([1, 4, 5, 8], float)\n",
        "print(array)\n",
        "type(array)\n",
        "\n",
        "array3d = np.array([[1, 4, 5],\n",
        "                   [3, 8, 2],\n",
        "                   [7, 9, 6]], float)"
      ],
      "metadata": {
        "id": "lgHKlFbrttNc"
      },
      "execution_count": null,
      "outputs": []
    },
    {
      "cell_type": "markdown",
      "source": [
        "As the advanced functions, arrays provide methods that can reshape the dimensions, copy the function, convert the array raw data to binary string, transpose the axes of arrays, concatenate arrays and slice.\n",
        "\n",
        "They are also available for simple and standard mathematical arithmetic to each array elements. It signifies that the math on array can compile with matching sizes. However, arrays that do not match will be broadcasted by Python to perform the operations. This automatic broadcasting provided in Python sometimes occurs error. The equivalent method can be done by using [newaxis, :] constant to reshape the array and apply math for each."
      ],
      "metadata": {
        "id": "BKoEe_l1uMFU"
      }
    },
    {
      "cell_type": "code",
      "source": [
        "import numpy as np\n",
        "\n",
        "# the inputs in the bracket represent; [start:end:step]\n",
        "\n",
        "slicing1 = array3d[1, :]\n",
        "# get the second element, indexing from the start and end\n",
        "# the execution >>> array([3., 8., 2.])\n",
        "\n",
        "slicing2 = array3d[:,2]\n",
        "# get the third steps of every element (indexing start from 0)\n",
        "# the execution >>> array([5., 2., 6.])\n",
        "\n",
        "reshapeArray = np.array(range(6), float)\n",
        "reshapeArray = reshapeArray.reshape((3, 2))\n",
        "# the execution >>> array([[0., 1.],\n",
        "#                          [2., 3.],\n",
        "#                          [4., 5.])"
      ],
      "metadata": {
        "id": "3D9DHWUouRI7"
      },
      "execution_count": null,
      "outputs": []
    },
    {
      "cell_type": "markdown",
      "source": [
        "The array operations mostly satisfies and are the same with the list functions provided by Python itself. It has sorting, calculating the means, obtaining minimum and maximum, and simple comparisons. The difference from list is that array has functions that return the indices of the minimum and maximum values, which are argmin and argmax, as well as computing the statistical quantities such as variance and standard deviation.\n",
        "\n",
        "\n"
      ],
      "metadata": {
        "id": "1S2-x_b6v7Ub"
      }
    },
    {
      "cell_type": "code",
      "source": [
        "import numpy as np\n",
        "\n",
        "# array operations provided similar to List\n",
        "array3d.sum()\n",
        "# np.sum(array3d)\n",
        "array3d.prod()\n",
        "# np.prod(array3d)\n",
        "array3d.min()\n",
        "array3d.max()\n",
        "array3d.sort()\n",
        "\n",
        "# argmin and argmax\n",
        "array3d.argmin()\n",
        "array3d.argmax()\n",
        "\n",
        "# statistical quatities\n",
        "array3d.mean()\n",
        "array3d.var()   # variation\n",
        "array3d.std()   # standard deviation"
      ],
      "metadata": {
        "id": "RBgDG0ewwGfZ"
      },
      "execution_count": null,
      "outputs": []
    },
    {
      "cell_type": "markdown",
      "source": [
        "NumPy also provides many functions for performing standard vector and matrix multiplication routines. They are available for dot product examination with dot() method. It also generalizes to matrix multiplication, and possible for inner, outer and cross product implementations. They are utilizable in convolution and fully-connected layers of CNN, where it needs the dot product to convolute the image with filters. Not only the dot products, but it also provide the methods that can generate eigenvalues, eigen vectors, singular value decomposition and inverse of matrices.\n",
        "\n"
      ],
      "metadata": {
        "id": "qwdxM5FswESJ"
      }
    },
    {
      "cell_type": "code",
      "source": [
        "import numpy as np\n",
        "\n",
        "dotArray1 = np.array([1, 2, 3], float)\n",
        "dotArray2 = np.array([0, 1, 1], float)\n",
        "\n",
        "np.dot(dotArray1, dotArray2)\n",
        "np.outer(dotArray1, dotArray2)\n",
        "np.inner(dotArray1, dotArray2)\n",
        "np.cross(dotArray1, dotArray2)"
      ],
      "metadata": {
        "id": "KolAFUzCwG8K"
      },
      "execution_count": null,
      "outputs": []
    },
    {
      "cell_type": "markdown",
      "source": [
        "As for the last functionality of NumPy, it supplies methods for working with polynomial. It is possible to find the polynomial coefficients with given set of roots, or opposingly finding the roots of given polynomial coefficients. These functions are written with poly() and roots() methods. It is also able to integrate and derive the polynomial functions, evaluating the polynomial at a particular point, as well as fitting a polynomial of a specified order to a set of data by using polyint(), polyder(), polyval() and polyfit() correspondingly."
      ],
      "metadata": {
        "id": "EZezBGEXwFRK"
      }
    },
    {
      "cell_type": "code",
      "source": [
        "import numpy as np\n",
        "\n",
        "np.poly([-1, 1, 1, 10])\n",
        "# the execution >>> array([1, -11, 9, 11, -10])\n",
        "# the list of elements [-1, 1, 1, 10] represent the roots of the polynomial x^(4)-11x^(3)+9x^(2)+11x-10\n",
        "\n",
        "np.roots([1, -11, 9, 11, -10])\n",
        "# the execution >>> array([-1, 1, 1, 10])\n",
        "\n",
        "np.polyint([1, 1, 1, 1])\n",
        "# >>> array([0.25, 0.333333333, 0.5, 1., 0.])\n",
        "\n",
        "np.polyder([0.25, 0.333333333, 0.5, 1., 0.])\n",
        "# >>> array([1., 1., 1., 1.])\n",
        "\n",
        "np.polyval([1, -2, 0, 2], 4)\n",
        "# >>> 34\n",
        "\n",
        "x = [1, 2, 3, 4, 5, 6, 7, 8]\n",
        "y = [0, 2, 1, 3, 7, 10, 11, 19]\n",
        "np.polyfit(x, y, 2)\n",
        "# >>> array([ 0.375 , -0.88690476, 1.05357143])"
      ],
      "metadata": {
        "id": "OBQsQeDMwHZA"
      },
      "execution_count": null,
      "outputs": []
    },
    {
      "cell_type": "markdown",
      "source": [
        "# 2. Matplotlib"
      ],
      "metadata": {
        "id": "PQrvVOPlyLaG"
      }
    },
    {
      "cell_type": "markdown",
      "source": [
        "Matplotlib is a library for charting data, that is the most popular Python 2D graphics tool kit. It offers a simple way to view Python data as well as publication-quality figures in a variety of formats, which provides a plotting system similar to MATLAB.\n",
        "\n",
        "Before any executions, %matplotlib magic is added to connect to a GUI loop. This is operated with “%matplotlib inline”.\n",
        "\n",
        "\n"
      ],
      "metadata": {
        "id": "E38831X2yQim"
      }
    },
    {
      "cell_type": "code",
      "source": [
        "%matplotlib inline"
      ],
      "metadata": {
        "id": "sKPqstX_yPjZ"
      },
      "execution_count": null,
      "outputs": []
    },
    {
      "cell_type": "markdown",
      "source": [
        "There are two main functions provided by Matplotlib. First of all, plotting 2D data in graphs is possible. Importing matplotlib.pyplot module and computing the 2D data with numpy ahead of the process is required. Then, plotting the output data with plot() method will allow the analysis. It is important to note that to visualize, it is necessary to use show() function before running the code. Equivalent to the MATLAB plotting functions, the labeling, putting the title and legends can be done with xlabel(), ylabel(), title() and legend() methods. When plotting, the module also provides the subplot function that data can be appeared in two different windows. The first two arguments assigned represent the height and width of the window, where the third value is for the window hierarchies for demonstration."
      ],
      "metadata": {
        "id": "t9L50BrSyZXn"
      }
    },
    {
      "cell_type": "code",
      "source": [
        "import numpy as np\n",
        "import matplotlib.pyplot as plt\n",
        "\n",
        "# Compute the x and y coordinates for points on sine and cosine curves\n",
        "x = np.arange(0, 3 * np.pi, 0.1)\n",
        "y_sin = np.sin(x)\n",
        "y_cos = np.cos(x)\n",
        "\n",
        "# Plot the points using matplotlib\n",
        "plt.plot(x, y_sin)\n",
        "plt.plot(x, y_cos)\n",
        "plt.xlabel('x axis label')\n",
        "plt.ylabel('y axis label')\n",
        "plt.title('Sine and Cosine')\n",
        "plt.legend(['Sine', 'Cosine'])\n",
        "plt.show()\n",
        "\n",
        "# Set up a subplot grid that has height 2 and width 1,\n",
        "# and set the first such subplot as active.\n",
        "plt.subplot(2, 1, 1)\n",
        "\n",
        "# Make the first plot\n",
        "plt.plot(x, y_sin)\n",
        "plt.title('Sine')\n",
        "\n",
        "# Set the second subplot as active, and make the second plot.\n",
        "plt.subplot(2, 1, 2)\n",
        "plt.plot(x, y_cos)\n",
        "plt.title('Cosine')\n",
        "\n",
        "# Show the figure.\n",
        "plt.show()"
      ],
      "metadata": {
        "id": "GThh1qHSybEp"
      },
      "execution_count": null,
      "outputs": []
    },
    {
      "cell_type": "markdown",
      "source": [
        "For an additional function to view the image, scipy is a thing to learn. It provides is imshow() that displays images. The images are searched from the same folder hierarchy, and returns error if the image cannot be found. Although it can discover the subfolders from its current position, it cannot do such things for higher ordered folders. By using the function, images can be showed with modified colors by rescaling the image channels or displayed in numbers by printing the values read from the image."
      ],
      "metadata": {
        "id": "uQ1km0oTybTY"
      }
    },
    {
      "cell_type": "code",
      "source": [
        "import numpy as np\n",
        "from scipy.misc import imread, imresize\n",
        "import matplotlib.pyplot as plt\n",
        "\n",
        "img = imread('assets/cat.jpg')\n",
        "img_tinted = img * [1, 0.95, 0.9]\n",
        "\n",
        "# Show the original image\n",
        "plt.subplot(1, 2, 1)\n",
        "plt.imshow(img)\n",
        "\n",
        "# Show the tinted image\n",
        "plt.subplot(1, 2, 2)\n",
        "\n",
        "# A slight gotcha with imshow is that it might give strange results\n",
        "# if presented with data that is not uint8. To work around this, we\n",
        "# explicitly cast the image to uint8 before displaying it.\n",
        "plt.imshow(np.uint8(img_tinted))\n",
        "plt.show()"
      ],
      "metadata": {
        "id": "zhfDZyxh5sCi"
      },
      "execution_count": null,
      "outputs": []
    }
  ]
}